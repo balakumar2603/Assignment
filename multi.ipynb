{
 "cells": [
  {
   "cell_type": "code",
   "execution_count": 1,
   "metadata": {},
   "outputs": [
    {
     "name": "stdout",
     "output_type": "stream",
     "text": [
      "Sub-fields in AI are:\n",
      "Machine Learning\n",
      "Neural Networks\n",
      "Vision\n",
      "Robotics\n",
      "Speech Processing\n",
      "Natural Language Processing\n",
      "____________________________\n",
      "Enter a number: 52452\n",
      "52452  is Even number\n",
      "____________________________\n",
      "Your Gender: Male\n",
      "Your Age: 20\n",
      "Not Elible\n",
      "____________________________\n",
      "Subject1: 98\n",
      "Subject2: 87\n",
      "Subject3: 95\n",
      "Subject4: 95\n",
      "Subject5: 93\n",
      "Total:  468\n",
      "93.6000000000000\n",
      "____________________________\n",
      "Height: 32\n",
      "Breadth: 34\n",
      "Area of formulae: (Height*Breadth/2)\n",
      "Area of Triangle:  544.0\n",
      "Height1: 2\n",
      "Height2: 4\n",
      "Breadth: 4\n",
      "Perimeter formula: Height1+Height2+Breadth\n",
      "Perimeter of Triangle:  10\n"
     ]
    }
   ],
   "source": [
    "from multipleFunctions import multipleFunctions\n",
    "multipleFunctions.Subfields()\n",
    "print(\"____________________________\")\n",
    "multipleFunctions.OddEven()\n",
    "print(\"____________________________\")\n",
    "multipleFunctions.Eligible()\n",
    "print(\"____________________________\")\n",
    "multipleFunctions.Percentage()\n",
    "print(\"____________________________\")\n",
    "multipleFunctions.Triangle()\n",
    "\n"
   ]
  },
  {
   "cell_type": "code",
   "execution_count": null,
   "metadata": {},
   "outputs": [],
   "source": []
  },
  {
   "cell_type": "code",
   "execution_count": null,
   "metadata": {},
   "outputs": [],
   "source": []
  }
 ],
 "metadata": {
  "kernelspec": {
   "display_name": "Python 3",
   "language": "python",
   "name": "python3"
  },
  "language_info": {
   "codemirror_mode": {
    "name": "ipython",
    "version": 3
   },
   "file_extension": ".py",
   "mimetype": "text/x-python",
   "name": "python",
   "nbconvert_exporter": "python",
   "pygments_lexer": "ipython3",
   "version": "3.7.4"
  }
 },
 "nbformat": 4,
 "nbformat_minor": 2
}
